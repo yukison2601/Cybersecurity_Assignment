{
  "nbformat": 4,
  "nbformat_minor": 0,
  "metadata": {
    "colab": {
      "provenance": [],
      "mount_file_id": "1EQDfwa7iHMmfCZ3__vY1vmCKwBDj3jd7",
      "authorship_tag": "ABX9TyNAhTThkgEbQD6I6+DVTvVb",
      "include_colab_link": true
    },
    "kernelspec": {
      "name": "python3",
      "display_name": "Python 3"
    },
    "language_info": {
      "name": "python"
    }
  },
  "cells": [
    {
      "cell_type": "markdown",
      "metadata": {
        "id": "view-in-github",
        "colab_type": "text"
      },
      "source": [
        "<a href=\"https://colab.research.google.com/github/yukison2601/Cybersecurity_Assignment/blob/main/Access%20Control.ipynb\" target=\"_parent\"><img src=\"https://colab.research.google.com/assets/colab-badge.svg\" alt=\"Open In Colab\"/></a>"
      ]
    },
    {
      "cell_type": "code",
      "execution_count": 1,
      "metadata": {
        "id": "tOiJ37CZ2NUo",
        "colab": {
          "base_uri": "https://localhost:8080/"
        },
        "outputId": "95f07320-d637-4062-a889-fd40afce5d9e"
      },
      "outputs": [
        {
          "output_type": "execute_result",
          "data": {
            "text/plain": [
              "<firebase_admin.App at 0x7fcdf62231f0>"
            ]
          },
          "metadata": {},
          "execution_count": 1
        }
      ],
      "source": [
        "import firebase_admin\n",
        "from firebase_admin import credentials\n",
        "from firebase_admin import db\n",
        "import hashlib\n",
        "import getpass\n",
        "#Initialize Firebase Admin SDK\n",
        "cred = credentials.Certificate(\"/content/drive/MyDrive/Untitled folder/cybersecurity-f8d03-firebase-adminsdk-i3m6p-086abbc6ea.json\")\n",
        "firebase_admin.initialize_app(cred, {'databaseURL': 'https://cybersecurity-f8d03-default-rtdb.asia-southeast1.firebasedatabase.app'})\n",
        "\n",
        "\n",
        "\n"
      ]
    },
    {
      "cell_type": "code",
      "source": [
        "#Register function\n",
        "def register():\n",
        "    UserID= input('Please enter your UserID: ')\n",
        "    email = input('Please enter your email: ')\n",
        "    password = getpass.getpass('Please enter your password: ')\n",
        "\n",
        "    #Hash the password using SHA-256\n",
        "    hashed_password = hashlib.sha256(password.encode('utf-8')).hexdigest()\n",
        "\n",
        "    try:\n",
        "\n",
        "\n",
        "        #Store email and hashed password in the Database\n",
        "        ref = db.reference('users')\n",
        "        ref.child(UserID).set({\n",
        "            'Email': email,\n",
        "            'Password': hashed_password\n",
        "        })\n",
        "\n",
        "        print(\"User registered successfully.\")\n",
        "    except Exception as e:\n",
        "        print(\"Error registering user:\", e)\n",
        "\n",
        "#Login function\n",
        "def login():\n",
        "    UserID= input('Please enter your UserID: ')\n",
        "    email = input('Please enter your email: ')\n",
        "    password = getpass.getpass('Please enter your password: ')\n",
        "\n",
        "    # Hash password using SHA-256\n",
        "    hashed_password = hashlib.sha256(password.encode('utf-8')).hexdigest()\n",
        "\n",
        "    try:\n",
        "        #Get hashed password from Database\n",
        "        ref = db.reference('users')\n",
        "        userdata= ref.child(UserID).get()\n",
        "        stored_email=userdata.get(\"Email\")\n",
        "        stored_password=userdata.get(\"Password\")\n",
        "\n",
        "\n",
        "        if stored_password == hashed_password:\n",
        "            print(\"User logged in successfully.\")\n",
        "        else:\n",
        "            print(\"Invalid email or password.\")\n",
        "    except Exception as e:\n",
        "        print(\"Error logging in:\", e)"
      ],
      "metadata": {
        "id": "s_OE0rNbLYNZ"
      },
      "execution_count": 2,
      "outputs": []
    },
    {
      "cell_type": "code",
      "source": [
        "# Prompt the user for login or register\n",
        "action = input(\"Enter 'login' or 'register': \")\n",
        "\n",
        "if action == 'login':\n",
        "    login()\n",
        "elif action == 'register':\n",
        "    register()\n",
        "else:\n",
        "    print(\"Invalid action.\")"
      ],
      "metadata": {
        "colab": {
          "base_uri": "https://localhost:8080/"
        },
        "id": "BSvtKEqgAQ3C",
        "outputId": "ef825314-5345-4ce5-e8b6-175052a1a213"
      },
      "execution_count": 4,
      "outputs": [
        {
          "output_type": "stream",
          "name": "stdout",
          "text": [
            "Enter 'login' or 'register': login\n",
            "Please enter your UserID: ws\n",
            "Please enter your email: qwe\n",
            "Please enter your password: ··········\n",
            "User logged in successfully.\n"
          ]
        }
      ]
    },
    {
      "cell_type": "code",
      "source": [],
      "metadata": {
        "id": "hsiYmkbX_-9K"
      },
      "execution_count": 9,
      "outputs": []
    }
  ]
}